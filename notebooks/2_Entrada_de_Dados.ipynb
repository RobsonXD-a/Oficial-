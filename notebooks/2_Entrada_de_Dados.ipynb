{
 "cells": [
  {
   "cell_type": "markdown",
   "metadata": {
    "id": "ut4Y0IhWWyVG"
   },
   "source": [
    "# Recebendo/Lendo dados\n",
    "\n",
    "Na Unidade 1, a entrada de dados foi feita diretamente no programa, atribuindo um valor fixo para variável.\n",
    "\n",
    "Nesta unidade veremos **como receber dados do usuário**.\n",
    "\n",
    "**Para receber dados do usuário, utilizamos a função ``input``.**\n",
    "\n",
    "\n",
    "É sempre bom exibir para o usuário a mensagem que explica qual dado ele deve digitar. **O texto de mensagem deve ficar entre aspas duplas**, ou seja,\n",
    "\n",
    "**``input(\"texto_da_mensagem\")``**\n",
    "\n",
    "Execute a célula abaixo. Deve aparecer uma caixa para você digitar o valor de C.\n",
    "Após digitar o valor para C, pressione a tecla enter."
   ]
  },
  {
   "cell_type": "markdown",
   "metadata": {
    "id": "hDNlu5IwWrLv"
   },
   "source": [
    "# Recebendo/Lendo dados\n",
    "\n",
    "Na Unidade 1, a entrada de dados foi feita diretamente no programa, atribuindo um valor fixo para variável.\n",
    "\n",
    "Nesta unidade veremos **como receber dados do usuário (que ele digita via teclado)**.\n",
    "\n",
    "**Para receber dados do usuário, utilizamos a função ``input``.**\n",
    "\n",
    "\n",
    "É sempre bom exibir para o usuário a mensagem que explica qual dado ele deve digitar. **O texto de mensagem deve ficar entre aspas duplas**, ou seja,\n",
    "\n",
    "**``input(\"texto_da_mensagem\")``**\n",
    "\n",
    "Execute a célula abaixo. Deve aparecer uma caixa para você digitar o valor de C.\n",
    "Após digitar o valor para C, pressione a tecla enter."
   ]
  },
  {
   "cell_type": "code",
   "execution_count": null,
   "metadata": {
    "id": "2JNDxnWoZgBd"
   },
   "outputs": [],
   "source": [
    "C = input(\"Digite a temperatura em Celsius: \") # Eh exibido texto \"Digite a temperatura em Celsius\" para o suario.\n",
    "                                               # O que usuario digitar eh atribuido a variavel C"
   ]
  },
  {
   "cell_type": "code",
   "execution_count": null,
   "metadata": {
    "id": "j48KQUOxZ0r3"
   },
   "outputs": [],
   "source": [
    "print(\"A temperatura digitada é\", C ,\"graus Celsius\") # Imprima o texto (que esta entre aspas duplas), o conteudo da variavel C, e o segundo texto"
   ]
  },
  {
   "cell_type": "markdown",
   "metadata": {
    "id": "EV4kMFwoBQhd"
   },
   "source": [
    "**O `input ` considera como padrão o que usuário digita como um texto.**\n",
    "\n",
    "Abaixo digite 10 como o valor para C.\n",
    "\n",
    "Veja o que acontece quando tentamos calcular C+C."
   ]
  },
  {
   "cell_type": "code",
   "execution_count": null,
   "metadata": {
    "id": "bpCnnVXPBGGx"
   },
   "outputs": [],
   "source": [
    "C = input(\"Digite a temperatura em Celsius: \")\n",
    "print(\"A temperatura digitada é\", C,\"graus Celsius\")\n",
    "D = C+C\n",
    "print(\"C+C é\", D)"
   ]
  },
  {
   "cell_type": "markdown",
   "metadata": {
    "id": "N_Jnp17MCfDT"
   },
   "source": [
    "O valor de D é 1010 quando o valor de C é 10. Por quê?\n",
    "\n",
    "É porque, **quando lidamos com textos, a operação ``+`` é a operação de concatenar (grudar) os textos.**\n",
    "\n",
    "Ou seja D é ``\"10\"+\"10\"``, que é ``\"1010\"``.\n",
    "\n",
    "Para que C seja considerado como número, **temos que fazer uma conversão**.\n",
    "\n",
    "Abaixo recebemos o valor na variável ``C_texto`` e **convertemos texto para um número que possivelmente pode ter casas decimais**.\n",
    "\n",
    "**Este tipo de número é chamado de ``float``**."
   ]
  },
  {
   "cell_type": "code",
   "execution_count": null,
   "metadata": {
    "id": "OVj27P1WCa8b"
   },
   "outputs": [],
   "source": [
    "C_texto = input(\"Digite a temperatura em Celsius: \")\n",
    "C = float(C_texto)\n",
    "print(\"A temperatura digitada é\",C,\"graus Celsius\")\n",
    "D = C+C\n",
    "print(\"C+C é\", D)"
   ]
  },
  {
   "cell_type": "markdown",
   "metadata": {
    "id": "U4pVI8R-DgMx"
   },
   "source": [
    "Na verdade, podemos usar a própria variável ``C`` como a seguir:"
   ]
  },
  {
   "cell_type": "code",
   "execution_count": null,
   "metadata": {
    "id": "FhBqA6YvDERh"
   },
   "outputs": [],
   "source": [
    "C = input(\"Digite a temperatura em Celsius: \")\n",
    "C = float(C)\n",
    "print(\"A temperatura digitada é\",C,\"graus Celsius\")\n",
    "D = C+C\n",
    "print(\"C+C é\", D)"
   ]
  },
  {
   "cell_type": "markdown",
   "metadata": {
    "id": "j7CNUIuDDvXT"
   },
   "source": [
    "Ou até mesmo, fazer em uma única linha (juntar as primeiras duas linhas de código acima em uma única linha):"
   ]
  },
  {
   "cell_type": "code",
   "execution_count": null,
   "metadata": {
    "id": "-2GFSRsJDxUb"
   },
   "outputs": [],
   "source": [
    "C = float(input(\"Digite a temperatura em Celsius: \"))\n",
    "print(\"A temperatura digitada é\",C,\"graus Celsius\")\n",
    "D = C+C\n",
    "print(\"C+C é\", D)"
   ]
  },
  {
   "cell_type": "markdown",
   "metadata": {
    "id": "_bRfGwFQD3nu"
   },
   "source": [
    "Você pode usar qual opção preferir. É bem comum fazer em uma única linha.\n",
    "\n",
    "Veja mais um exemplo.\n",
    "\n",
    "Suponha que você queira dividir $d$ reais igualmente entre $n$ pessoas.\n",
    "\n",
    "Nesse caso, $d$ é um número possivelmente com casas decimais e $n$ é um número inteiro.\n",
    "\n",
    "**Para números inteiros, ao invés de ``float``, usamos ``int``**:"
   ]
  },
  {
   "cell_type": "code",
   "execution_count": null,
   "metadata": {
    "id": "-9GENKNBD29J"
   },
   "outputs": [],
   "source": [
    "d = float(input(\"Digite a quantidade de dinheiro: \"))\n",
    "n = int(input(\"Digite o número de pessoas.\"))\n",
    "r = d/n\n",
    "print(\"Cada pessoa vai receber\",r,\"reais\")"
   ]
  },
  {
   "cell_type": "markdown",
   "metadata": {
    "id": "FZ7GCLeaFVy5"
   },
   "source": [
    "## Exercício: quilômetros percorridos\n",
    "\n",
    "Considere um carro com tanque com capacidade $C$ em litros e eficiência $E$ em km/litro. Queremos saber quantos quilômetros o carro anda com $C$ litros (assumindo que a eficiência vai ser exata).\n",
    "\n",
    "Faça um programa que\n",
    "- Recebe o valor de $C$\n",
    "- Recebe o valor de $E$\n",
    "- Mostre a resposta formatada com duas casas decimais como neste exemplo:\n",
    "O carro vai andar 256.79 quilômetros."
   ]
  },
  {
   "cell_type": "markdown",
   "metadata": {
    "id": "2oeJxx-arFZ3"
   },
   "source": [
    "<hr>"
   ]
  },
  {
   "cell_type": "code",
   "execution_count": 4,
   "metadata": {},
   "outputs": [
    {
     "name": "stdin",
     "output_type": "stream",
     "text": [
      "Digite a capacidade do tanque do carro em litros:  40\n",
      "Digite a eficiência do carro em km/litro:  12\n"
     ]
    },
    {
     "name": "stdout",
     "output_type": "stream",
     "text": [
      "O carro vai andar 480.00 quilômetros\n"
     ]
    }
   ],
   "source": [
    "c=float(input(\"Digite a capacidade do tanque do carro em litros: \"))\n",
    "e=float(input(\"Digite a eficiência do carro em km/litro: \"))\n",
    "a = c*e\n",
    "print(f\"O carro vai andar %.2f quilômetros\"%a) "
   ]
  },
  {
   "cell_type": "code",
   "execution_count": null,
   "metadata": {},
   "outputs": [],
   "source": []
  }
 ],
 "metadata": {
  "colab": {
   "provenance": []
  },
  "kernelspec": {
   "display_name": "Python 3 (ipykernel)",
   "language": "python",
   "name": "python3"
  },
  "language_info": {
   "codemirror_mode": {
    "name": "ipython",
    "version": 3
   },
   "file_extension": ".py",
   "mimetype": "text/x-python",
   "name": "python",
   "nbconvert_exporter": "python",
   "pygments_lexer": "ipython3",
   "version": "3.11.5"
  }
 },
 "nbformat": 4,
 "nbformat_minor": 4
}
