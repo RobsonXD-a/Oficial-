{
 "cells": [
  {
   "cell_type": "code",
   "execution_count": 39,
   "metadata": {},
   "outputs": [
    {
     "name": "stdout",
     "output_type": "stream",
     "text": [
      "Não fomra um triângulo\n"
     ]
    }
   ],
   "source": [
    "#Lista 2 ex1\n",
    "a=float(input(\"Digite o lado a do triângulo\"))\n",
    "b=float(input(\"Digite o lado b do triângiulo:\"))\n",
    "c=float(input(\"Digite o lado c do triângulo:\"))\n",
    "\n",
    "if ((a+b>c) and (a+c>b) and (c+b>a)) and a>0 and b>0 and c>0:\n",
    "    print(\"Forma um triângulo\")\n",
    "else:\n",
    "    print(\"Não forma um triângulo\")\n"
   ]
  },
  {
   "cell_type": "code",
   "execution_count": 10,
   "metadata": {},
   "outputs": [
    {
     "name": "stdout",
     "output_type": "stream",
     "text": [
      "5.243333333333333\n"
     ]
    }
   ],
   "source": [
    "a= float(input())\n",
    "b= float (input())\n",
    "c=float (input())\n",
    "media= (a+b+c)/3\n",
    "print(media)"
   ]
  },
  {
   "cell_type": "code",
   "execution_count": null,
   "metadata": {},
   "outputs": [],
   "source": []
  }
 ],
 "metadata": {
  "kernelspec": {
   "display_name": "Python 3",
   "language": "python",
   "name": "python3"
  },
  "language_info": {
   "codemirror_mode": {
    "name": "ipython",
    "version": 3
   },
   "file_extension": ".py",
   "mimetype": "text/x-python",
   "name": "python",
   "nbconvert_exporter": "python",
   "pygments_lexer": "ipython3",
   "version": "3.10.13"
  }
 },
 "nbformat": 4,
 "nbformat_minor": 2
}
